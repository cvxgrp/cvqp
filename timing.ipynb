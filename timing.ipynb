{
 "cells": [
  {
   "cell_type": "code",
   "execution_count": 4,
   "metadata": {},
   "outputs": [],
   "source": [
    "import numpy as np\n",
    "import cvxpy as cp\n",
    "import time\n",
    "from tqdm import tqdm\n",
    "from matplotlib import pyplot as plt\n",
    "\n",
    "from cvar_proj import  proj_sum_largest\n",
    "\n",
    "import sys\n",
    "sys.path.append('/Users/ericluxenberg/Desk/Gridmatic/build')\n",
    "import mybindings\n",
    "\n",
    "# use autoreload\n",
    "%load_ext autoreload\n",
    "%autoreload 2\n"
   ]
  },
  {
   "cell_type": "code",
   "execution_count": 5,
   "metadata": {},
   "outputs": [],
   "source": [
    "def proj_cvxpy(z, k=2, alpha=1):\n",
    "    z = np.array(z)\n",
    "    n = len(z)\n",
    "    \n",
    "    # Check if the problem object is already in the cache\n",
    "    if (n, k) in proj_cvxpy.cache:\n",
    "        prob, alpha_ = proj_cvxpy.cache[(n, k)]\n",
    "    else:\n",
    "        x = cp.Variable(n)\n",
    "        alpha_ = cp.Parameter(nonneg=True) \n",
    "        objective = cp.Minimize(cp.sum_squares(x - z))\n",
    "        constraints = [cp.sum_largest(x, k) <= alpha_]\n",
    "        prob = cp.Problem(objective, constraints)\n",
    "        \n",
    "        # Add the problem object to the cache\n",
    "        proj_cvxpy.cache[(n, k)] = prob, alpha_\n",
    "    \n",
    "    alpha_.value = alpha\n",
    "\n",
    "    s = time.time()\n",
    "    _ = prob.solve(solver=cp.MOSEK)\n",
    "    e = time.time()\n",
    "    \n",
    "    solve_time = prob._solve_time\n",
    "    return solve_time\n",
    "\n",
    "# Initialize the cache dictionary\n",
    "proj_cvxpy.cache = {}\n",
    "\n",
    "def proj_cvxpy_alt(z, k=2, alpha=1):\n",
    "    z = np.array(z)\n",
    "    n = len(z)\n",
    "    x = cp.Variable(n)\n",
    "\n",
    "    # identify the index of the k-th largest element\n",
    "    s = time.time()\n",
    "    sorted_inds = np.argsort(z)\n",
    "    i = sorted_inds[-k]\n",
    "    inds = sorted_inds[-k:]\n",
    "    out_inds = sorted_inds[:-k]\n",
    "    z = z[sorted_inds[::-1]]\n",
    "    e = time.time()\n",
    "\n",
    "    t = e - s\n",
    "    \n",
    "    objective = cp.Minimize(cp.sum_squares(x - z))\n",
    "    constraints = [\n",
    "        # cp.sum(x[inds]) <= alpha,\n",
    "        # x[inds] >= x[i],\n",
    "        # x[out_inds] <= x[i]\n",
    "        cp.sum(x[:k]) <= alpha,\n",
    "        x[:k] >= x[k-1],\n",
    "        x[k:] <= x[k-1]\n",
    "    ]\n",
    "    prob = cp.Problem(objective, constraints)\n",
    "\n",
    "    s = time.time()\n",
    "    out = np.zeros(n)\n",
    "    # unsort the solution\n",
    "    out[sorted_inds] = x.value\n",
    "    e = time.time()\n",
    "    t += e - s\n",
    "\n",
    "    prob.solve(solver=cp.MOSEK)\n",
    "    # get the solve time from the solver\n",
    "    solve_time = prob._solve_time\n",
    "    return solve_time + t\n",
    "\n"
   ]
  },
  {
   "cell_type": "code",
   "execution_count": 6,
   "metadata": {},
   "outputs": [],
   "source": [
    "def test(f, beta, tau_r, n):\n",
    "\n",
    "    z = np.random.uniform(0, 1, n)\n",
    "    k = int(beta*n)\n",
    "    alpha = tau_r * cp.sum_largest(z, k).value\n",
    "\n",
    "    # s = time.time()\n",
    "    t = f(z,k,alpha)\n",
    "    # e = time.time()\n",
    "    return t"
   ]
  },
  {
   "cell_type": "code",
   "execution_count": 7,
   "metadata": {},
   "outputs": [
    {
     "name": "stderr",
     "output_type": "stream",
     "text": [
      "100%|██████████| 50/50 [00:00<00:00, 3338.67it/s]\n",
      "100%|██████████| 50/50 [00:00<00:00, 11919.02it/s]\n",
      "100%|██████████| 50/50 [00:00<00:00, 53.91it/s]\n",
      "100%|██████████| 50/50 [00:00<00:00, 69.57it/s]\n"
     ]
    }
   ],
   "source": [
    "f = proj_sum_largest\n",
    "\n",
    "beta = .05\n",
    "tau_r = .9\n",
    "n = 1000\n",
    "trials = 50\n",
    "\n",
    "def time_f(f):\n",
    "    times = np.zeros(trials)\n",
    "    for i in tqdm(range(trials)):\n",
    "        s = time.time()\n",
    "        t = test(f, beta, tau_r,n)\n",
    "        e = time.time()\n",
    "\n",
    "        if not isinstance(t, float):\n",
    "            t = e-s\n",
    "\n",
    "        times[i] = t\n",
    "    return times\n",
    "\n",
    "times_proj = time_f(proj_sum_largest)\n",
    "\n",
    "F = lambda z, k, alpha: mybindings.sum_largest_proj(z, k, alpha, k, 0, len(z), False)\n",
    "times_cpp = time_f(F)\n",
    "\n",
    "_ = test(proj_cvxpy, beta, tau_r,n) # compile problem\n",
    "times_cvxpy = time_f(proj_cvxpy)\n",
    "\n",
    "times_alt = time_f(proj_cvxpy_alt)"
   ]
  },
  {
   "cell_type": "code",
   "execution_count": 8,
   "metadata": {},
   "outputs": [
    {
     "data": {
      "text/plain": [
       "<matplotlib.legend.Legend at 0x16ff4ad00>"
      ]
     },
     "execution_count": 8,
     "metadata": {},
     "output_type": "execute_result"
    },
    {
     "data": {
      "image/png": "[encoded data removed]",
      "text/plain": [
       "<Figure size 640x480 with 1 Axes>"
      ]
     },
     "metadata": {},
     "output_type": "display_data"
    }
   ],
   "source": [
    "plt.hist(times_proj, label=\"proj\");\n",
    "plt.axvline(times_proj.mean(), color='r', linestyle='dashed', linewidth=1, label = \"mean proj\")\n",
    "plt.hist(times_cpp, label=\"cpp\");\n",
    "plt.axvline(times_cpp.mean(), color='b', linestyle='dashed', linewidth=1, label = \"mean cpp\")\n",
    "plt.hist(times_cvxpy, label=\"cvxpy\");\n",
    "plt.axvline(times_cvxpy.mean(), color='y', linestyle='dashed', linewidth=1, label = \"mean cvxpy\")\n",
    "plt.hist(times_alt, label=\"alt\");\n",
    "plt.axvline(times_alt.mean(), color='g', linestyle='dashed', linewidth=1, label = \"mean alt\")\n",
    "plt.legend()"
   ]
  },
  {
   "cell_type": "code",
   "execution_count": 9,
   "metadata": {},
   "outputs": [
    {
     "name": "stdout",
     "output_type": "stream",
     "text": [
      "10000\n"
     ]
    },
    {
     "name": "stderr",
     "output_type": "stream",
     "text": [
      "100%|██████████| 50/50 [00:00<00:00, 1358.14it/s]\n",
      "100%|██████████| 50/50 [00:06<00:00,  8.20it/s]\n"
     ]
    },
    {
     "name": "stdout",
     "output_type": "stream",
     "text": [
      "CVXPY succeeded 100.0 percent of the time for n=10000\n",
      "30000\n"
     ]
    },
    {
     "name": "stderr",
     "output_type": "stream",
     "text": [
      "100%|██████████| 50/50 [00:00<00:00, 517.66it/s]\n",
      "100%|██████████| 50/50 [00:17<00:00,  2.85it/s]\n"
     ]
    },
    {
     "name": "stdout",
     "output_type": "stream",
     "text": [
      "CVXPY succeeded 100.0 percent of the time for n=30000\n",
      "100000\n"
     ]
    },
    {
     "name": "stderr",
     "output_type": "stream",
     "text": [
      "100%|██████████| 50/50 [00:00<00:00, 135.99it/s]\n",
      "100%|██████████| 50/50 [00:57<00:00,  1.16s/it]\n"
     ]
    },
    {
     "name": "stdout",
     "output_type": "stream",
     "text": [
      "CVXPY succeeded 100.0 percent of the time for n=100000\n",
      "300000\n"
     ]
    },
    {
     "name": "stderr",
     "output_type": "stream",
     "text": [
      "100%|██████████| 50/50 [00:01<00:00, 42.20it/s]\n",
      "100%|██████████| 50/50 [02:57<00:00,  3.55s/it]\n"
     ]
    },
    {
     "name": "stdout",
     "output_type": "stream",
     "text": [
      "CVXPY succeeded 100.0 percent of the time for n=300000\n",
      "1000000\n"
     ]
    },
    {
     "name": "stderr",
     "output_type": "stream",
     "text": [
      "100%|██████████| 50/50 [00:04<00:00, 11.57it/s]\n",
      "100%|██████████| 50/50 [14:24<00:00, 17.28s/it]"
     ]
    },
    {
     "name": "stdout",
     "output_type": "stream",
     "text": [
      "CVXPY succeeded 100.0 percent of the time for n=1000000\n"
     ]
    },
    {
     "name": "stderr",
     "output_type": "stream",
     "text": [
      "\n"
     ]
    },
    {
     "data": {
      "text/plain": [
       "<matplotlib.legend.Legend at 0x3370bcf10>"
      ]
     },
     "execution_count": 9,
     "metadata": {},
     "output_type": "execute_result"
    },
    {
     "data": {
      "image/png": "[encoded data removed]",
      "text/plain": [
       "<Figure size 640x480 with 1 Axes>"
      ]
     },
     "metadata": {},
     "output_type": "display_data"
    }
   ],
   "source": [
    "# mu_proj =[]\n",
    "mu_cpp = []\n",
    "mu_cvxpy = []\n",
    "mu_alt = []\n",
    "\n",
    "# ns = [100, 1000, 10_000, 100_000, 1_000_000] #, 1_000_000]\n",
    "ns = [10**4, 3*10**4, 10**5, 3*10**5, 10**6]\n",
    "# ns = [3_000_000]\n",
    "cvxpy_successes = []\n",
    "\n",
    "for n in ns:\n",
    "    print(n)\n",
    "    beta = .05\n",
    "    tau_r = .9\n",
    "    trials = 50\n",
    "\n",
    "    def time_f(f):\n",
    "        times = []\n",
    "        for i in tqdm(range(trials)):\n",
    "            try:\n",
    "                s = time.time()\n",
    "                t = test(f, beta, tau_r,n)\n",
    "                e = time.time()\n",
    "\n",
    "                if not isinstance(t, float):\n",
    "                    t = e-s\n",
    "\n",
    "                times.append(t)\n",
    "            except:\n",
    "                Exception\n",
    "\n",
    "        return np.array(times)\n",
    "    \n",
    "    # times_proj = time_f(proj_sum_largest)\n",
    "    times_cpp = time_f(F)\n",
    "    times_cvxpy = time_f(proj_cvxpy)\n",
    "    # times_alt = time_f(proj_cvxpy_alt)\n",
    "\n",
    "    # mu_proj.append(times_proj.mean())\n",
    "    mu_cpp.append(times_cpp.mean())\n",
    "    mu_cvxpy.append(times_cvxpy.mean())\n",
    "    # mu_alt.append(times_alt.mean())\n",
    "    print(f\"CVXPY succeeded {len(times_cvxpy)/trials*100} percent of the time for n={n}\")\n",
    "    cvxpy_successes.append(len(times_cvxpy)/trials)\n",
    "\n",
    "# plt.plot(ns, mu_proj, label=\"proj\")\n",
    "plt.plot(ns, mu_cpp, label=\"cpp\")\n",
    "plt.plot(ns, mu_cvxpy, label=\"cvxpy\")\n",
    "# plt.plot(ns, mu_alt, label=\"alt\")\n",
    "\n",
    "plt.legend()\n",
    "\n"
   ]
  },
  {
   "cell_type": "code",
   "execution_count": 22,
   "metadata": {},
   "outputs": [
    {
     "name": "stdout",
     "output_type": "stream",
     "text": [
      "3000000\n"
     ]
    },
    {
     "name": "stderr",
     "output_type": "stream",
     "text": [
      "100%|██████████| 50/50 [00:14<00:00,  3.43it/s]\n"
     ]
    },
    {
     "name": "stdout",
     "output_type": "stream",
     "text": [
      "10000000\n"
     ]
    },
    {
     "name": "stderr",
     "output_type": "stream",
     "text": [
      "100%|██████████| 50/50 [00:56<00:00,  1.12s/it]\n"
     ]
    }
   ],
   "source": [
    "mu_cpp_extra = []\n",
    "\n",
    "ns_extra = [3_000_000,10_000_000]\n",
    "\n",
    "for n in ns_extra:\n",
    "    print(n)\n",
    "    beta = .05\n",
    "    tau_r = .9\n",
    "    trials = 50\n",
    "\n",
    "    def time_f(f):\n",
    "        times = []\n",
    "        for i in tqdm(range(trials)):\n",
    "            s = time.time()\n",
    "            t = test(f, beta, tau_r,n)\n",
    "            e = time.time()\n",
    "\n",
    "            if not isinstance(t, float):\n",
    "                t = e-s\n",
    "\n",
    "            times.append(t)\n",
    "    \n",
    "        return np.array(times)\n",
    "    \n",
    "    times_cpp = time_f(F)\n",
    "\n",
    "    mu_cpp_extra.append(times_cpp.mean())\n"
   ]
  },
  {
   "cell_type": "code",
   "execution_count": 23,
   "metadata": {},
   "outputs": [],
   "source": [
    "ns_final = ns + ns_extra\n",
    "mu_ours = mu_cpp + mu_cpp_extra\n",
    "\n",
    "# save the results in a pickle file\n",
    "import pickle\n",
    "with open(\"cvar_proj_results.pkl\", 'wb') as f:\n",
    "    data = {\n",
    "        \"ns_final\": ns_final, \n",
    "        \"mu_cpp\": mu_ours,\n",
    "        \"ns\" : ns, \n",
    "        \"mu_cvxpy\": mu_cvxpy,\n",
    "        \"cvxpy_successes\": cvxpy_successes}\n",
    "    pickle.dump(data, f)"
   ]
  },
  {
   "cell_type": "code",
   "execution_count": 24,
   "metadata": {},
   "outputs": [],
   "source": [
    "# load the results\n",
    "with open('cvar_proj_results.pkl', 'rb') as f:\n",
    "    data = pickle.load(f)\n",
    "\n",
    "ns_final = data['ns_final']\n",
    "mu_ours = data['mu_cpp']\n",
    "ns = data['ns']\n",
    "mu_cvxpy = data['mu_cvxpy']\n",
    "cvxpy_successes = data['cvxpy_successes']\n"
   ]
  },
  {
   "cell_type": "code",
   "execution_count": 57,
   "metadata": {},
   "outputs": [
    {
     "data": {
      "image/png": "[encoded data removed]",
      "text/plain": [
       "<Figure size 640x480 with 1 Axes>"
      ]
     },
     "metadata": {},
     "output_type": "display_data"
    }
   ],
   "source": [
    "\n",
    "plt.plot(ns_final, mu_ours, label=\"ours\", marker='o')\n",
    "plt.plot(ns, mu_cvxpy, label=\"MOSEK\", marker='o')\n",
    "plt.scatter(ns_final[-2:],[mu_cvxpy[-1],mu_cvxpy[-1]], color='red', marker=\"x\", label= \"MOSEK failed\")\n",
    "# plt.plot(ns, mu_alt, label=\"Roth\")\n",
    "\n",
    "plt.legend()\n",
    "\n",
    "# make the y,x axis log scale\n",
    "plt.yscale('log')\n",
    "plt.xscale('log')\n",
    "\n",
    "plt.xlabel(\"m\")\n",
    "plt.ylabel(\"time (s)\")\n",
    "plt.savefig(\"../cvar-opt/proj_time.pdf\")"
   ]
  },
  {
   "cell_type": "code",
   "execution_count": null,
   "metadata": {},
   "outputs": [],
   "source": []
  }
 ],
 "metadata": {
  "kernelspec": {
   "display_name": "Python 3",
   "language": "python",
   "name": "python3"
  },
  "language_info": {
   "codemirror_mode": {
    "name": "ipython",
    "version": 3
   },
   "file_extension": ".py",
   "mimetype": "text/x-python",
   "name": "python",
   "nbconvert_exporter": "python",
   "pygments_lexer": "ipython3",
   "version": "3.9.18"
  },
  "orig_nbformat": 4
 },
 "nbformat": 4,
 "nbformat_minor": 2
}
